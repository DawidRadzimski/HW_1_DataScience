{
 "cells": [
  {
   "cell_type": "code",
   "execution_count": 5,
   "id": "ecbeb9c6-854d-4381-9a2c-b2cbb84f86de",
   "metadata": {},
   "outputs": [],
   "source": [
    "import numpy as np"
   ]
  },
  {
   "cell_type": "markdown",
   "id": "1da00dde-2649-4353-bb87-0db1d996a0ab",
   "metadata": {},
   "source": [
    "# Zadanie 1: Utwórz jednowymiarową tablicę (wektor) z pierwszymi 10 dodatnimi liczbami całkowitymi i wyświetl jej wartość."
   ]
  },
  {
   "cell_type": "code",
   "execution_count": 7,
   "id": "8028ccf5-615f-4e27-8642-736d7ae194b0",
   "metadata": {},
   "outputs": [
    {
     "name": "stdout",
     "output_type": "stream",
     "text": [
      "Zadanie 1: [ 1  2  3  4  5  6  7  8  9 10]\n"
     ]
    }
   ],
   "source": [
    "vector_10 = np.arange(1, 11)\n",
    "print(\"Zadanie 1:\", vector_10)"
   ]
  },
  {
   "cell_type": "markdown",
   "id": "352846c6-e3fa-4a16-8aad-7c8efc1412c1",
   "metadata": {},
   "source": [
    "# Zadanie 2: Utwórz dwuwymiarową tablicę (macierz) o rozmiarze 3x3, wypełnij ją zerami i wyświetl jej wartość.\n"
   ]
  },
  {
   "cell_type": "code",
   "execution_count": 8,
   "id": "c0af5e79-7c01-4760-bf5a-fc48e3dcb3b2",
   "metadata": {},
   "outputs": [
    {
     "name": "stdout",
     "output_type": "stream",
     "text": [
      "\n",
      "Zadanie 2:\n",
      " [[0. 0. 0.]\n",
      " [0. 0. 0.]\n",
      " [0. 0. 0.]]\n"
     ]
    }
   ],
   "source": [
    "matrix_3x3_zeros = np.zeros((3, 3))\n",
    "print(\"\\nZadanie 2:\\n\", matrix_3x3_zeros)"
   ]
  },
  {
   "cell_type": "markdown",
   "id": "21256eee-0068-4220-b782-007cdb1f00c8",
   "metadata": {},
   "source": [
    "# Zadanie 3: Utwórz tablicę o rozmiarze 5x5, wypełnij ją losowymi liczbami całkowitymi z zakresu od 1 do 10 i wyświetl jej wartość.\n"
   ]
  },
  {
   "cell_type": "code",
   "execution_count": 9,
   "id": "72c008fb-939e-4a25-98a4-625b62eef4f4",
   "metadata": {},
   "outputs": [
    {
     "name": "stdout",
     "output_type": "stream",
     "text": [
      "\n",
      "Zadanie 3:\n",
      " [[ 3  5  8  4  6]\n",
      " [ 9 10  4  9  6]\n",
      " [ 7  6  4  5  7]\n",
      " [ 9  6  4  8  8]\n",
      " [ 7  5  8  3  6]]\n"
     ]
    }
   ],
   "source": [
    "matrix_5x5_random = np.random.randint(1, 11, size=(5, 5))\n",
    "print(\"\\nZadanie 3:\\n\", matrix_5x5_random)"
   ]
  },
  {
   "cell_type": "markdown",
   "id": "2b0bf516-8ae8-4e78-b9e3-8bed821fbe39",
   "metadata": {},
   "source": [
    "# Zadanie 4: Utwórz tablicę o rozmiarze 4x4, wypełnij ją losowymi liczbami rzeczywistymi z zakresu od 0 do 1 i wyświetl jej wartość.\n"
   ]
  },
  {
   "cell_type": "code",
   "execution_count": 10,
   "id": "7129a3cd-0237-492a-b287-bce5485d31e5",
   "metadata": {},
   "outputs": [
    {
     "name": "stdout",
     "output_type": "stream",
     "text": [
      "\n",
      "Zadanie 4:\n",
      " [[0.46988848 0.77053012 0.24285757 0.15597161]\n",
      " [0.76575963 0.57349144 0.43655124 0.03106206]\n",
      " [0.28546908 0.14502531 0.29517372 0.89569986]\n",
      " [0.4902967  0.53072179 0.46055302 0.42273067]]\n"
     ]
    }
   ],
   "source": [
    "matrix_4x4_random_floats = np.random.rand(4, 4)\n",
    "print(\"\\nZadanie 4:\\n\", matrix_4x4_random_floats)"
   ]
  },
  {
   "cell_type": "code",
   "execution_count": 11,
   "id": "07b1bcb6-5096-47f7-ac69-8e8494376d3a",
   "metadata": {},
   "outputs": [],
   "source": [
    "# Zadanie 5: Utwórz dwie jednowymiarowe tablice o rozmiarze 5, wypełnij je losowymi liczbami całkowitymi z zakresu od 1 do 10 i wykonaj na nich operacje dodawania, odejmowania i mnożenia.\n"
   ]
  },
  {
   "cell_type": "code",
   "execution_count": 12,
   "id": "2652405e-66f1-42a9-8fc9-3ec02d4b3be9",
   "metadata": {},
   "outputs": [
    {
     "name": "stdout",
     "output_type": "stream",
     "text": [
      "\n",
      "Zadanie 5:\n",
      "vector_5_a: [6 8 4 7 7]\n",
      "vector_5_b: [ 7 10  3 10  8]\n",
      "Addition: [13 18  7 17 15]\n",
      "Subtraction: [-1 -2  1 -3 -1]\n",
      "Multiplication: [42 80 12 70 56]\n"
     ]
    }
   ],
   "source": [
    "vector_5_a = np.random.randint(1, 11, size=5)\n",
    "vector_5_b = np.random.randint(1, 11, size=5)\n",
    "print(\"\\nZadanie 5:\\nvector_5_a:\", vector_5_a)\n",
    "print(\"vector_5_b:\", vector_5_b)\n",
    "print(\"Addition:\", vector_5_a + vector_5_b)\n",
    "print(\"Subtraction:\", vector_5_a - vector_5_b)\n",
    "print(\"Multiplication:\", vector_5_a * vector_5_b)"
   ]
  },
  {
   "cell_type": "markdown",
   "id": "7094ff8f-bc98-4ddf-b7eb-04528718befa",
   "metadata": {},
   "source": [
    "# Zadanie 6: Utwórz dwa wektory o rozmiarze 7, wypełnij je losowymi liczbami i znajdź ich iloczyn skalarny.\n"
   ]
  },
  {
   "cell_type": "code",
   "execution_count": 13,
   "id": "31ced92f-3604-47e1-81e5-0da13095e8b1",
   "metadata": {},
   "outputs": [
    {
     "name": "stdout",
     "output_type": "stream",
     "text": [
      "\n",
      "Zadanie 6:\n",
      "vector_7_a: [0.33015181 0.32465475 0.39815414 0.64966329 0.71073994 0.18073619\n",
      " 0.80178021]\n",
      "vector_7_b: [0.0465633  0.08792086 0.85962417 0.47654472 0.24131325 0.84127618\n",
      " 0.79649085]\n",
      "Dot product: 1.6579440209322744\n"
     ]
    }
   ],
   "source": [
    "vector_7_a = np.random.random(7)\n",
    "vector_7_b = np.random.random(7)\n",
    "dot_product = np.dot(vector_7_a, vector_7_b)\n",
    "print(\"\\nZadanie 6:\\nvector_7_a:\", vector_7_a)\n",
    "print(\"vector_7_b:\", vector_7_b)\n",
    "print(\"Dot product:\", dot_product)"
   ]
  },
  {
   "cell_type": "markdown",
   "id": "49bddbae-b526-4abd-ba64-1a7900f68f65",
   "metadata": {},
   "source": [
    "# Zadanie 7: Utwórz dwie macierze o rozmiarach 2x2 i 2x3, wypełnij je losowymi liczbami całkowitymi z zakresu od 1 do 10 i pomnóż je.\n"
   ]
  },
  {
   "cell_type": "code",
   "execution_count": 14,
   "id": "e28d74a6-ca4e-49c4-bcff-a73a92a3b428",
   "metadata": {},
   "outputs": [
    {
     "name": "stdout",
     "output_type": "stream",
     "text": [
      "\n",
      "Zadanie 7:\n",
      "matrix_2x2:\n",
      " [[ 3 10]\n",
      " [ 4  3]]\n",
      "matrix_2x3:\n",
      " [[ 2  5  3]\n",
      " [ 3  5 10]]\n",
      "Product:\n",
      " [[ 36  65 109]\n",
      " [ 17  35  42]]\n"
     ]
    }
   ],
   "source": [
    "matrix_2x2 = np.random.randint(1, 11, size=(2, 2))\n",
    "matrix_2x3 = np.random.randint(1, 11, size=(2, 3))\n",
    "matrix_product = np.dot(matrix_2x2, matrix_2x3)\n",
    "print(\"\\nZadanie 7:\\nmatrix_2x2:\\n\", matrix_2x2)\n",
    "print(\"matrix_2x3:\\n\", matrix_2x3)\n",
    "print(\"Product:\\n\", matrix_product)"
   ]
  },
  {
   "cell_type": "markdown",
   "id": "43ff2e07-5543-444c-91b2-2492ec3df806",
   "metadata": {},
   "source": [
    "# Zadanie 8: Utwórz macierz o rozmiarze 3x3, wypełnij ją losowymi liczbami całkowitymi z zakresu od 1 do 10 i znajdź jej odwrotność.\n"
   ]
  },
  {
   "cell_type": "code",
   "execution_count": 15,
   "id": "0d462db6-867d-402a-9cbb-9f579dd639b6",
   "metadata": {},
   "outputs": [
    {
     "name": "stdout",
     "output_type": "stream",
     "text": [
      "\n",
      "Zadanie 8:\n",
      "matrix_3x3:\n",
      " [[ 2 10  8]\n",
      " [10  2  3]\n",
      " [ 7  2  7]]\n",
      "Inverse:\n",
      " [[-0.01877934  0.12676056 -0.03286385]\n",
      " [ 0.11502347  0.09859155 -0.17370892]\n",
      " [-0.01408451 -0.15492958  0.22535211]]\n"
     ]
    }
   ],
   "source": [
    "matrix_3x3 = np.random.randint(1, 11, size=(3, 3))\n",
    "try:\n",
    "    matrix_inverse = np.linalg.inv(matrix_3x3)\n",
    "    print(\"\\nZadanie 8:\\nmatrix_3x3:\\n\", matrix_3x3)\n",
    "    print(\"Inverse:\\n\", matrix_inverse)\n",
    "except np.linalg.LinAlgError:\n",
    "    print(\"\\nZadanie 8: Macierz nie jest odwracalna.\")"
   ]
  },
  {
   "cell_type": "markdown",
   "id": "b682f197-cecf-406a-9b32-4298924d56f9",
   "metadata": {},
   "source": [
    "# Zadanie 9: Utwórz macierz 4x4, wypełnij ją losowymi liczbami rzeczywistymi z zakresu od 0 do 1 i przetransponuj ją.\n"
   ]
  },
  {
   "cell_type": "code",
   "execution_count": 16,
   "id": "b2f2230d-52c9-452b-bb2f-ca1aa5683ce8",
   "metadata": {},
   "outputs": [
    {
     "name": "stdout",
     "output_type": "stream",
     "text": [
      "\n",
      "Zadanie 9:\n",
      "matrix_4x4:\n",
      " [[0.3468988  0.67751042 0.83760689 0.45019052]\n",
      " [0.93841021 0.96513894 0.19488629 0.71579482]\n",
      " [0.80472478 0.88486808 0.83542047 0.19228062]\n",
      " [0.795424   0.16454366 0.80720044 0.72660954]]\n",
      "Transpose:\n",
      " [[0.3468988  0.93841021 0.80472478 0.795424  ]\n",
      " [0.67751042 0.96513894 0.88486808 0.16454366]\n",
      " [0.83760689 0.19488629 0.83542047 0.80720044]\n",
      " [0.45019052 0.71579482 0.19228062 0.72660954]]\n"
     ]
    }
   ],
   "source": [
    "matrix_4x4 = np.random.rand(4, 4)\n",
    "matrix_transpose = matrix_4x4.T\n",
    "print(\"\\nZadanie 9:\\nmatrix_4x4:\\n\", matrix_4x4)\n",
    "print(\"Transpose:\\n\", matrix_transpose)"
   ]
  },
  {
   "cell_type": "markdown",
   "id": "f9069cc1-791f-4678-a8c9-f8e4e17f78e2",
   "metadata": {},
   "source": [
    "# Zadanie 10: Utwórz macierz o rozmiarze 3x4 i wektor o rozmiarze 4, wypełnij je losowymi liczbami całkowitymi z zakresu od 1 do 10 i pomnóż macierz przez wektor.\n"
   ]
  },
  {
   "cell_type": "code",
   "execution_count": 17,
   "id": "0bd1bafe-906b-4535-abd7-297d7301c964",
   "metadata": {},
   "outputs": [
    {
     "name": "stdout",
     "output_type": "stream",
     "text": [
      "\n",
      "Zadanie 10:\n",
      "matrix_3x4:\n",
      " [[10  9 10  2]\n",
      " [ 8  3  5  8]\n",
      " [ 4  2  2  3]]\n",
      "vector_4: [3 2 6 4]\n",
      "Product: [116  92  40]\n"
     ]
    }
   ],
   "source": [
    "matrix_3x4 = np.random.randint(1, 11, size=(3, 4))\n",
    "vector_4 = np.random.randint(1, 11, size=4)\n",
    "matrix_vector_product = np.dot(matrix_3x4, vector_4)\n",
    "print(\"\\nZadanie 10:\\nmatrix_3x4:\\n\", matrix_3x4)\n",
    "print(\"vector_4:\", vector_4)\n",
    "print(\"Product:\", matrix_vector_product)"
   ]
  },
  {
   "cell_type": "markdown",
   "id": "069e3491-6d9d-4f91-ac75-bc7782a21f13",
   "metadata": {},
   "source": [
    "# Zadanie 11: Utwórz macierz o rozmiarze 2x3 i wektor o rozmiarze 3, wypełnij je losowymi liczbami rzeczywistymi z zakresu od 0 do 1 i pomnóż macierz przez wektor.\n"
   ]
  },
  {
   "cell_type": "code",
   "execution_count": 18,
   "id": "5407ed69-748e-450d-ad22-bf26bab33a7c",
   "metadata": {},
   "outputs": [
    {
     "name": "stdout",
     "output_type": "stream",
     "text": [
      "\n",
      "Zadanie 11:\n",
      "matrix_2x3:\n",
      " [[0.79171846 0.69777911 0.06749178]\n",
      " [0.0039599  0.60356574 0.0439457 ]]\n",
      "vector_3: [0.57221524 0.06622929 0.8894663 ]\n",
      "Product: [0.55927844 0.08132787]\n"
     ]
    }
   ],
   "source": [
    "matrix_2x3 = np.random.rand(2, 3)\n",
    "vector_3 = np.random.rand(3)\n",
    "matrix_vector_product_floats = np.dot(matrix_2x3, vector_3)\n",
    "print(\"\\nZadanie 11:\\nmatrix_2x3:\\n\", matrix_2x3)\n",
    "print(\"vector_3:\", vector_3)\n",
    "print(\"Product:\", matrix_vector_product_floats)"
   ]
  },
  {
   "cell_type": "markdown",
   "id": "6cf01630-6451-46f8-9680-dba716b21ef3",
   "metadata": {},
   "source": [
    "# Zadanie 12: Utwórz dwie macierze o rozmiarze 2x2, wypełnij je losowymi liczbami całkowitymi z zakresu od 1 do 10 i wykonaj ich mnożenie pierwiastkowe.\n"
   ]
  },
  {
   "cell_type": "code",
   "execution_count": 19,
   "id": "63ffae5c-d736-4045-a12c-44f50b439865",
   "metadata": {},
   "outputs": [
    {
     "name": "stdout",
     "output_type": "stream",
     "text": [
      "\n",
      "Zadanie 12:\n",
      "matrix_2x2_a:\n",
      " [[8 9]\n",
      " [9 5]]\n",
      "matrix_2x2_b:\n",
      " [[1 6]\n",
      " [1 3]]\n",
      "Element-wise multiplication:\n",
      " [[ 8 54]\n",
      " [ 9 15]]\n"
     ]
    }
   ],
   "source": [
    "matrix_2x2_a = np.random.randint(1, 11, size=(2, 2))\n",
    "matrix_2x2_b = np.random.randint(1, 11, size=(2, 2))\n",
    "elementwise_multiplication = matrix_2x2_a * matrix_2x2_b\n",
    "print(\"\\nZadanie 12:\\nmatrix_2x2_a:\\n\", matrix_2x2_a)\n",
    "print(\"matrix_2x2_b:\\n\", matrix_2x2_b)\n",
    "print(\"Element-wise multiplication:\\n\", elementwise_multiplication)"
   ]
  },
  {
   "cell_type": "markdown",
   "id": "0f8db0a9-e075-4117-9d67-cbd89125b414",
   "metadata": {},
   "source": [
    "# Zadanie 13: Utwórz dwie macierze o rozmiarze 2x2, wypełnij je losowymi liczbami całkowitymi z zakresu od 1 do 10 i znajdź ich iloczyn.\n"
   ]
  },
  {
   "cell_type": "code",
   "execution_count": 20,
   "id": "4c91bc4d-32ef-4c46-87ad-49906de9024c",
   "metadata": {},
   "outputs": [
    {
     "name": "stdout",
     "output_type": "stream",
     "text": [
      "\n",
      "Zadanie 13:\n",
      "matrix_2x2_c:\n",
      " [[1 3]\n",
      " [7 8]]\n",
      "matrix_2x2_d:\n",
      " [[3 5]\n",
      " [5 6]]\n",
      "Product:\n",
      " [[18 23]\n",
      " [61 83]]\n"
     ]
    }
   ],
   "source": [
    "matrix_2x2_c = np.random.randint(1, 11, size=(2, 2))\n",
    "matrix_2x2_d = np.random.randint(1, 11, size=(2, 2))\n",
    "matrix_product_cd = np.dot(matrix_2x2_c, matrix_2x2_d)\n",
    "print(\"\\nZadanie 13:\\nmatrix_2x2_c:\\n\", matrix_2x2_c)\n",
    "print(\"matrix_2x2_d:\\n\", matrix_2x2_d)\n",
    "print(\"Product:\\n\", matrix_product_cd)"
   ]
  },
  {
   "cell_type": "markdown",
   "id": "3e688f33-c853-47b6-a427-b8afd1800bf3",
   "metadata": {},
   "source": [
    "# Zadanie 14: Utwórz macierz 5x5, wypełnij ją losowymi liczbami całkowitymi z zakresu od 1 do 100 i znajdź sumę elementów macierzy.\n"
   ]
  },
  {
   "cell_type": "code",
   "execution_count": 21,
   "id": "67f08c69-abff-48d6-a6f2-27aa1b2083b3",
   "metadata": {},
   "outputs": [
    {
     "name": "stdout",
     "output_type": "stream",
     "text": [
      "\n",
      "Zadanie 14:\n",
      "matrix_5x5_large:\n",
      " [[41 13 34 73 31]\n",
      " [61 21 75 18 52]\n",
      " [37 92 47 96 30]\n",
      " [13 91  4 45 71]\n",
      " [38 62  1 26 39]]\n",
      "Sum of elements: 1111\n"
     ]
    }
   ],
   "source": [
    "matrix_5x5_large = np.random.randint(1, 101, size=(5, 5))\n",
    "matrix_sum = np.sum(matrix_5x5_large)\n",
    "print(\"\\nZadanie 14:\\nmatrix_5x5_large:\\n\", matrix_5x5_large)\n",
    "print(\"Sum of elements:\", matrix_sum)"
   ]
  },
  {
   "cell_type": "markdown",
   "id": "0be991b2-0e0f-4b4e-8069-342ed89e46d1",
   "metadata": {},
   "source": [
    "# Zadanie 15: Utwórz dwie macierze o rozmiarze 4x4, wypełnij je losowymi liczbami całkowitymi z zakresu od 1 do 10 i znajdź ich różnicę.\n"
   ]
  },
  {
   "cell_type": "code",
   "execution_count": 22,
   "id": "321ddfac-3cd2-4978-bc68-f5b4b535c108",
   "metadata": {},
   "outputs": [
    {
     "name": "stdout",
     "output_type": "stream",
     "text": [
      "\n",
      "Zadanie 15:\n",
      "matrix_4x4_e:\n",
      " [[ 7  1  7  4]\n",
      " [ 1  1  7 10]\n",
      " [ 8  8  4  6]\n",
      " [ 1  4  6  3]]\n",
      "matrix_4x4_f:\n",
      " [[ 5  6 10  6]\n",
      " [ 8  2 10 10]\n",
      " [10  5  5  6]\n",
      " [ 7  1  8 10]]\n",
      "Difference:\n",
      " [[ 2 -5 -3 -2]\n",
      " [-7 -1 -3  0]\n",
      " [-2  3 -1  0]\n",
      " [-6  3 -2 -7]]\n"
     ]
    }
   ],
   "source": [
    "matrix_4x4_e = np.random.randint(1, 11, size=(4, 4))\n",
    "matrix_4x4_f = np.random.randint(1, 11, size=(4, 4))\n",
    "matrix_difference = matrix_4x4_e - matrix_4x4_f\n",
    "print(\"\\nZadanie 15:\\nmatrix_4x4_e:\\n\", matrix_4x4_e)\n",
    "print(\"matrix_4x4_f:\\n\", matrix_4x4_f)\n",
    "print(\"Difference:\\n\", matrix_difference)"
   ]
  },
  {
   "cell_type": "markdown",
   "id": "a2b70c9b-11c0-4cc5-b5b2-5e3a38109139",
   "metadata": {},
   "source": [
    "# Zadanie 16: Utwórz macierz 3x3, wypełnij ją losowymi liczbami rzeczywistymi z zakresu od 0 do 1 i znajdź wektor kolumnowy zawierający sumę elementów każdego wiersza macierzy.\n"
   ]
  },
  {
   "cell_type": "code",
   "execution_count": 23,
   "id": "5c875412-3912-41dd-b76f-9a763f387bc0",
   "metadata": {},
   "outputs": [
    {
     "name": "stdout",
     "output_type": "stream",
     "text": [
      "\n",
      "Zadanie 16:\n",
      "matrix_3x3_floats:\n",
      " [[0.77039272 0.7716718  0.04308714]\n",
      " [0.67664122 0.7335512  0.82267152]\n",
      " [0.70830804 0.68015939 0.64357495]]\n",
      "Row sums: [1.58515166 2.23286394 2.03204238]\n"
     ]
    }
   ],
   "source": [
    "matrix_3x3_floats = np.random.rand(3, 3)\n",
    "row_sums = np.sum(matrix_3x3_floats, axis=1)\n",
    "print(\"\\nZadanie 16:\\nmatrix_3x3_floats:\\n\", matrix_3x3_floats)\n",
    "print(\"Row sums:\", row_sums)"
   ]
  },
  {
   "cell_type": "markdown",
   "id": "908a63d5-47e1-4c8f-bcce-25a5fa53d405",
   "metadata": {},
   "source": [
    "# Zadanie 17: Utwórz macierz o rozmiarze 3x4 z dowolnymi liczbami całkowitymi i utwórz macierz z kwadratami tych liczb.\n"
   ]
  },
  {
   "cell_type": "code",
   "execution_count": 24,
   "id": "33ec3a64-ee09-489d-b110-7557de4cc68b",
   "metadata": {},
   "outputs": [
    {
     "name": "stdout",
     "output_type": "stream",
     "text": [
      "\n",
      "Zadanie 17:\n",
      "matrix_3x4_any:\n",
      " [[ 1  2  3  4]\n",
      " [ 5  6  7  8]\n",
      " [ 9 10 11 12]]\n",
      "Squared matrix:\n",
      " [[  1   4   9  16]\n",
      " [ 25  36  49  64]\n",
      " [ 81 100 121 144]]\n"
     ]
    }
   ],
   "source": [
    "matrix_3x4_any = np.array([[1, 2, 3, 4], [5, 6, 7, 8], [9, 10, 11, 12]])\n",
    "matrix_squared = np.square(matrix_3x4_any)\n",
    "print(\"\\nZadanie 17:\\nmatrix_3x4_any:\\n\", matrix_3x4_any)\n",
    "print(\"Squared matrix:\\n\", matrix_squared)\n"
   ]
  },
  {
   "cell_type": "markdown",
   "id": "da1695ce-91d9-40ee-9b4a-137aac0d79bd",
   "metadata": {},
   "source": [
    "# Zadanie 18: Utwórz wektor o rozmiarze 4, wypełnij go losowymi liczbami całkowitymi z zakresu od 1 do 50 i znajdź wektor pierwiastków kwadratowych z tych liczb.\n"
   ]
  },
  {
   "cell_type": "code",
   "execution_count": 25,
   "id": "c7b8f3d0-b663-47af-b655-2bc48008b401",
   "metadata": {},
   "outputs": [
    {
     "name": "stdout",
     "output_type": "stream",
     "text": [
      "\n",
      "Zadanie 18:\n",
      "vector_4_large: [34 48 43 48]\n",
      "Square roots: [5.83095189 6.92820323 6.55743852 6.92820323]\n"
     ]
    }
   ],
   "source": [
    "vector_4_large = np.random.randint(1, 51, size=4)\n",
    "vector_sqrt = np.sqrt(vector_4_large)\n",
    "print(\"\\nZadanie 18:\\nvector_4_large:\", vector_4_large)\n",
    "print(\"Square roots:\", vector_sqrt)"
   ]
  },
  {
   "cell_type": "code",
   "execution_count": null,
   "id": "6953726b-c06f-4659-a6de-026b8db1e925",
   "metadata": {},
   "outputs": [],
   "source": []
  },
  {
   "cell_type": "code",
   "execution_count": null,
   "id": "9d893b84-e4e5-4f98-9f8f-1090029cd311",
   "metadata": {},
   "outputs": [],
   "source": []
  }
 ],
 "metadata": {
  "kernelspec": {
   "display_name": "Python 3 (ipykernel)",
   "language": "python",
   "name": "python3"
  },
  "language_info": {
   "codemirror_mode": {
    "name": "ipython",
    "version": 3
   },
   "file_extension": ".py",
   "mimetype": "text/x-python",
   "name": "python",
   "nbconvert_exporter": "python",
   "pygments_lexer": "ipython3",
   "version": "3.12.0"
  }
 },
 "nbformat": 4,
 "nbformat_minor": 5
}
